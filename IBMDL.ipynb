{
 "cells": [
  {
   "cell_type": "markdown",
   "metadata": {},
   "source": [
    "IBM Data Science Capstone, Class 9, Week 3,  \"Cananda Postal Codes Neighborhoods Data Frames\"  Steven Harrison, March 17, 2019"
   ]
  },
  {
   "cell_type": "markdown",
   "metadata": {},
   "source": [
    "Install our BeautifulSoup HTML Parser"
   ]
  },
  {
   "cell_type": "code",
   "execution_count": 9,
   "metadata": {},
   "outputs": [
    {
     "name": "stdout",
     "output_type": "stream",
     "text": [
      "Fetching package metadata .............\n",
      "Solving package specifications: .\n",
      "\n",
      "Package plan for installation in environment /opt/conda/envs/DSX-Python35:\n",
      "\n",
      "The following packages will be UPDATED:\n",
      "\n",
      "    beautifulsoup4: 4.6.0-py35h442a8c9_1 --> 4.6.3-py35_0 anaconda\n",
      "\n",
      "beautifulsoup4 100% |################################| Time: 0:00:00  36.13 MB/s\n"
     ]
    }
   ],
   "source": [
    "!conda install -c anaconda BeautifulSoup4"
   ]
  },
  {
   "cell_type": "markdown",
   "metadata": {},
   "source": [
    "Import our Python libraries."
   ]
  },
  {
   "cell_type": "code",
   "execution_count": 1,
   "metadata": {},
   "outputs": [],
   "source": [
    "\"\"\"  Import our Data and Data Analysis Dependencies \"\"\"\n",
    "import numpy as np                    # import our numpy arrays\n",
    "import pandas as pd                   # import our pandas dataframes\n",
    "import urllib.request                 # import our web access tool\n",
    "from bs4 import BeautifulSoup         # import our HTML parsing tool"
   ]
  },
  {
   "cell_type": "markdown",
   "metadata": {},
   "source": [
    "Extract our HTML data from the Wikipedia Site."
   ]
  },
  {
   "cell_type": "code",
   "execution_count": 2,
   "metadata": {},
   "outputs": [],
   "source": [
    "\"\"\"  Import our Data,  Webscrape Wikipedia for our Canada Postal Codes  \"\"\"\n",
    "toronto_codes = 'https://en.wikipedia.org/wiki/List_of_postal_codes_of_Canada:_M'    # our wikipedia target\n",
    "postal_page = urllib.request.urlopen(toronto_codes)                                  \n",
    "soup = BeautifulSoup(postal_page, 'html.parser')                                     # read all of the HTML into soup    "
   ]
  },
  {
   "cell_type": "markdown",
   "metadata": {},
   "source": [
    "Isolate our data table embedded in our HTML."
   ]
  },
  {
   "cell_type": "code",
   "execution_count": 3,
   "metadata": {},
   "outputs": [],
   "source": [
    "code_table = soup.find('table',{'class':'wikitable sortable'})       # isolate our HTML table structure"
   ]
  },
  {
   "cell_type": "markdown",
   "metadata": {},
   "source": [
    "Extract our data from the table tags and clean our data according to the system requirements"
   ]
  },
  {
   "cell_type": "code",
   "execution_count": 4,
   "metadata": {
    "scrolled": false
   },
   "outputs": [],
   "source": [
    "\"\"\" Extract our data from our table tr and td tags \"\"\"\n",
    "table_rows = code_table.findAll('tr')     # all our table elements are now in a list (mydata), extract from each...\n",
    "\n",
    "delete = 0\n",
    "row = list()          # initial processing\n",
    "row2 = list()         # 2nd processing\n",
    "row3 = list()         # 3rd processing \n",
    "\n",
    "for tr in table_rows:\n",
    "    td = tr.find_all('td')\n",
    "    row = [i.text for i in td]      # extracted data from HTML Tag\n",
    "    if delete == 0:                 # handle the first value and remove []\n",
    "        delete = 1\n",
    "        continue\n",
    "    row2.append(row)\n",
    "\n",
    "\"\"\" Clean our data \"\"\"\n",
    "for items in row2:\n",
    "    if items[1] == 'Not assigned':    # handle 'not assigned' in 2nd value\n",
    "        continue\n",
    "    temp_val = items[2].strip()       # handle \\n removal on 3rd value each item\n",
    "    del items[2]\n",
    "    items.append(temp_val)\n",
    "    if items[2] == 'Not assigned':    # handle 'not assigned' in 3rd value, 2nd value becomes 3rd value\n",
    "        del items[2]\n",
    "        replacement = items[1]\n",
    "        items.append(replacement)\n",
    "    row3.append(items)\n",
    "\n",
    "# Notes:  March 17, 2019\n",
    "# row3 data cleansing was completed in Microsoft Excel and transformed into a CSV and uploaded to labs.cognitiveclass.ai thru Skills Network Lab (Upload Files)"
   ]
  },
  {
   "cell_type": "markdown",
   "metadata": {},
   "source": [
    "Tranform our data into a pandas datafram, add column titles, and output to Jupyter Lab"
   ]
  },
  {
   "cell_type": "code",
   "execution_count": 5,
   "metadata": {},
   "outputs": [
    {
     "data": {
      "text/html": [
       "<div>\n",
       "<style scoped>\n",
       "    .dataframe tbody tr th:only-of-type {\n",
       "        vertical-align: middle;\n",
       "    }\n",
       "\n",
       "    .dataframe tbody tr th {\n",
       "        vertical-align: top;\n",
       "    }\n",
       "\n",
       "    .dataframe thead th {\n",
       "        text-align: right;\n",
       "    }\n",
       "</style>\n",
       "<table border=\"1\" class=\"dataframe\">\n",
       "  <thead>\n",
       "    <tr style=\"text-align: right;\">\n",
       "      <th></th>\n",
       "      <th>PostalCode</th>\n",
       "      <th>Borough</th>\n",
       "      <th>Neighborhood</th>\n",
       "    </tr>\n",
       "  </thead>\n",
       "  <tbody>\n",
       "    <tr>\n",
       "      <th>0</th>\n",
       "      <td>M4A</td>\n",
       "      <td>North York</td>\n",
       "      <td>Victoria Village</td>\n",
       "    </tr>\n",
       "    <tr>\n",
       "      <th>1</th>\n",
       "      <td>M5A</td>\n",
       "      <td>Downtown Toronto</td>\n",
       "      <td>Harbourfront, Regent Park</td>\n",
       "    </tr>\n",
       "    <tr>\n",
       "      <th>2</th>\n",
       "      <td>M6A</td>\n",
       "      <td>North York</td>\n",
       "      <td>Lawrence Heights, Lawrence Manor</td>\n",
       "    </tr>\n",
       "    <tr>\n",
       "      <th>3</th>\n",
       "      <td>M7A</td>\n",
       "      <td>Queen's Park</td>\n",
       "      <td>Queen's Park</td>\n",
       "    </tr>\n",
       "    <tr>\n",
       "      <th>4</th>\n",
       "      <td>M9A</td>\n",
       "      <td>Etobicoke</td>\n",
       "      <td>Islington Avenue</td>\n",
       "    </tr>\n",
       "  </tbody>\n",
       "</table>\n",
       "</div>"
      ],
      "text/plain": [
       "  PostalCode           Borough                      Neighborhood\n",
       "0        M4A        North York                  Victoria Village\n",
       "1        M5A  Downtown Toronto         Harbourfront, Regent Park\n",
       "2        M6A        North York  Lawrence Heights, Lawrence Manor\n",
       "3        M7A      Queen's Park                      Queen's Park\n",
       "4        M9A         Etobicoke                  Islington Avenue"
      ]
     },
     "execution_count": 5,
     "metadata": {},
     "output_type": "execute_result"
    }
   ],
   "source": [
    "\"\"\" read our cleaned Postal Codes csv file into our pandas dataframe \"\"\"\n",
    "df = pd.read_csv('Postal Codes2.csv') \n",
    "df.columns=['PostalCode', 'Borough', 'Neighborhood']\n",
    "df.head()"
   ]
  },
  {
   "cell_type": "markdown",
   "metadata": {},
   "source": [
    "Out to console the shape of our dataframe."
   ]
  },
  {
   "cell_type": "code",
   "execution_count": 6,
   "metadata": {},
   "outputs": [
    {
     "data": {
      "text/plain": [
       "(102, 3)"
      ]
     },
     "execution_count": 6,
     "metadata": {},
     "output_type": "execute_result"
    }
   ],
   "source": [
    "\"\"\" Output the shape of our pandas dataframe \"\"\"\n",
    "df.shape"
   ]
  },
  {
   "cell_type": "code",
   "execution_count": 8,
   "metadata": {},
   "outputs": [
    {
     "data": {
      "text/html": [
       "<div>\n",
       "<style scoped>\n",
       "    .dataframe tbody tr th:only-of-type {\n",
       "        vertical-align: middle;\n",
       "    }\n",
       "\n",
       "    .dataframe tbody tr th {\n",
       "        vertical-align: top;\n",
       "    }\n",
       "\n",
       "    .dataframe thead th {\n",
       "        text-align: right;\n",
       "    }\n",
       "</style>\n",
       "<table border=\"1\" class=\"dataframe\">\n",
       "  <thead>\n",
       "    <tr style=\"text-align: right;\">\n",
       "      <th></th>\n",
       "      <th>PostalCode</th>\n",
       "      <th>Borough</th>\n",
       "      <th>Neighborhood</th>\n",
       "      <th>Latitude</th>\n",
       "      <th>Longitude</th>\n",
       "    </tr>\n",
       "  </thead>\n",
       "  <tbody>\n",
       "    <tr>\n",
       "      <th>0</th>\n",
       "      <td>M1C</td>\n",
       "      <td>Scarborough</td>\n",
       "      <td>Highland Creek, Rouge Hill, Port Union</td>\n",
       "      <td>43.784535</td>\n",
       "      <td>-79.160497</td>\n",
       "    </tr>\n",
       "    <tr>\n",
       "      <th>1</th>\n",
       "      <td>M1E</td>\n",
       "      <td>Scarborough</td>\n",
       "      <td>Guildwood, Morningside, West Hill</td>\n",
       "      <td>43.763573</td>\n",
       "      <td>-79.188711</td>\n",
       "    </tr>\n",
       "    <tr>\n",
       "      <th>2</th>\n",
       "      <td>M1G</td>\n",
       "      <td>Scarborough</td>\n",
       "      <td>Woburn</td>\n",
       "      <td>43.770992</td>\n",
       "      <td>-79.216917</td>\n",
       "    </tr>\n",
       "    <tr>\n",
       "      <th>3</th>\n",
       "      <td>M1H</td>\n",
       "      <td>Scarborough</td>\n",
       "      <td>Cedarbrae</td>\n",
       "      <td>43.773136</td>\n",
       "      <td>-79.239476</td>\n",
       "    </tr>\n",
       "    <tr>\n",
       "      <th>4</th>\n",
       "      <td>M1J</td>\n",
       "      <td>Scarborough</td>\n",
       "      <td>Scarborough Village</td>\n",
       "      <td>43.744734</td>\n",
       "      <td>-79.239476</td>\n",
       "    </tr>\n",
       "  </tbody>\n",
       "</table>\n",
       "</div>"
      ],
      "text/plain": [
       "  PostalCode      Borough                            Neighborhood   Latitude  \\\n",
       "0        M1C  Scarborough  Highland Creek, Rouge Hill, Port Union  43.784535   \n",
       "1        M1E  Scarborough       Guildwood, Morningside, West Hill  43.763573   \n",
       "2        M1G  Scarborough                                  Woburn  43.770992   \n",
       "3        M1H  Scarborough                               Cedarbrae  43.773136   \n",
       "4        M1J  Scarborough                     Scarborough Village  43.744734   \n",
       "\n",
       "   Longitude  \n",
       "0 -79.160497  \n",
       "1 -79.188711  \n",
       "2 -79.216917  \n",
       "3 -79.239476  \n",
       "4 -79.239476  "
      ]
     },
     "execution_count": 8,
     "metadata": {},
     "output_type": "execute_result"
    }
   ],
   "source": [
    "\"\"\" read our cleaned Postal Codes csv file with Lat/Long integration into our pandas dataframe \"\"\"\n",
    "# This dataframe includes the Lat and Long of the Postal Codes and Boroughs, for use with FourSquare processing \n",
    "df = pd.read_csv('Postal Codes3.csv') \n",
    "df.columns=['PostalCode', 'Borough', 'Neighborhood', 'Latitude', 'Longitude']\n",
    "df.head()"
   ]
  },
  {
   "cell_type": "code",
   "execution_count": null,
   "metadata": {},
   "outputs": [],
   "source": []
  }
 ],
 "metadata": {
  "kernelspec": {
   "display_name": "Python 3",
   "language": "python",
   "name": "python3"
  },
  "language_info": {
   "codemirror_mode": {
    "name": "ipython",
    "version": 3
   },
   "file_extension": ".py",
   "mimetype": "text/x-python",
   "name": "python",
   "nbconvert_exporter": "python",
   "pygments_lexer": "ipython3",
   "version": "3.6.8"
  }
 },
 "nbformat": 4,
 "nbformat_minor": 2
}
